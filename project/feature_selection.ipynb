{
 "cells": [
  {
   "cell_type": "code",
   "execution_count": null,
   "id": "f129d6a0",
   "metadata": {},
   "outputs": [],
   "source": []
  },
  {
   "cell_type": "code",
   "execution_count": 59,
   "id": "6ebb2e5f",
   "metadata": {},
   "outputs": [],
   "source": [
    "# import pandas for data anlysis and manipulations\n",
    "import numpy as np\n",
    "\n",
    "import pandas as pd"
   ]
  },
  {
   "cell_type": "code",
   "execution_count": 60,
   "id": "e786d350",
   "metadata": {
    "scrolled": true
   },
   "outputs": [
    {
     "data": {
      "text/html": [
       "<div>\n",
       "<style scoped>\n",
       "    .dataframe tbody tr th:only-of-type {\n",
       "        vertical-align: middle;\n",
       "    }\n",
       "\n",
       "    .dataframe tbody tr th {\n",
       "        vertical-align: top;\n",
       "    }\n",
       "\n",
       "    .dataframe thead th {\n",
       "        text-align: right;\n",
       "    }\n",
       "</style>\n",
       "<table border=\"1\" class=\"dataframe\">\n",
       "  <thead>\n",
       "    <tr style=\"text-align: right;\">\n",
       "      <th></th>\n",
       "      <th>Country Name</th>\n",
       "      <th>Country Code</th>\n",
       "      <th>Time</th>\n",
       "      <th>Time Code</th>\n",
       "      <th>Fertility rate, total (births per woman) [SP.DYN.TFRT.IN]</th>\n",
       "      <th>Life expectancy at birth, total (years) [SP.DYN.LE00.IN]</th>\n",
       "      <th>Mortality rate, infant (per 1,000 live births) [SP.DYN.IMRT.IN]</th>\n",
       "      <th>GDP (current US$) [NY.GDP.MKTP.CD]</th>\n",
       "      <th>Population, total [SP.POP.TOTL]</th>\n",
       "    </tr>\n",
       "  </thead>\n",
       "  <tbody>\n",
       "    <tr>\n",
       "      <th>0</th>\n",
       "      <td>Afghanistan</td>\n",
       "      <td>AFG</td>\n",
       "      <td>1960</td>\n",
       "      <td>YR1960</td>\n",
       "      <td>7.282</td>\n",
       "      <td>32.535</td>\n",
       "      <td>..</td>\n",
       "      <td>537777811.111111</td>\n",
       "      <td>8622466</td>\n",
       "    </tr>\n",
       "    <tr>\n",
       "      <th>1</th>\n",
       "      <td>Afghanistan</td>\n",
       "      <td>AFG</td>\n",
       "      <td>1961</td>\n",
       "      <td>YR1961</td>\n",
       "      <td>7.284</td>\n",
       "      <td>33.068</td>\n",
       "      <td>..</td>\n",
       "      <td>548888895.555556</td>\n",
       "      <td>8790140</td>\n",
       "    </tr>\n",
       "    <tr>\n",
       "      <th>2</th>\n",
       "      <td>Afghanistan</td>\n",
       "      <td>AFG</td>\n",
       "      <td>1962</td>\n",
       "      <td>YR1962</td>\n",
       "      <td>7.292</td>\n",
       "      <td>33.547</td>\n",
       "      <td>..</td>\n",
       "      <td>546666677.777778</td>\n",
       "      <td>8969047</td>\n",
       "    </tr>\n",
       "    <tr>\n",
       "      <th>3</th>\n",
       "      <td>Afghanistan</td>\n",
       "      <td>AFG</td>\n",
       "      <td>1963</td>\n",
       "      <td>YR1963</td>\n",
       "      <td>7.302</td>\n",
       "      <td>34.016</td>\n",
       "      <td>228.9</td>\n",
       "      <td>751111191.111111</td>\n",
       "      <td>9157465</td>\n",
       "    </tr>\n",
       "    <tr>\n",
       "      <th>4</th>\n",
       "      <td>Afghanistan</td>\n",
       "      <td>AFG</td>\n",
       "      <td>1964</td>\n",
       "      <td>YR1964</td>\n",
       "      <td>7.304</td>\n",
       "      <td>34.494</td>\n",
       "      <td>225.1</td>\n",
       "      <td>800000044.444444</td>\n",
       "      <td>9355514</td>\n",
       "    </tr>\n",
       "  </tbody>\n",
       "</table>\n",
       "</div>"
      ],
      "text/plain": [
       "  Country Name Country Code  Time Time Code  \\\n",
       "0  Afghanistan          AFG  1960    YR1960   \n",
       "1  Afghanistan          AFG  1961    YR1961   \n",
       "2  Afghanistan          AFG  1962    YR1962   \n",
       "3  Afghanistan          AFG  1963    YR1963   \n",
       "4  Afghanistan          AFG  1964    YR1964   \n",
       "\n",
       "  Fertility rate, total (births per woman) [SP.DYN.TFRT.IN]  \\\n",
       "0                                              7.282          \n",
       "1                                              7.284          \n",
       "2                                              7.292          \n",
       "3                                              7.302          \n",
       "4                                              7.304          \n",
       "\n",
       "  Life expectancy at birth, total (years) [SP.DYN.LE00.IN]  \\\n",
       "0                                             32.535         \n",
       "1                                             33.068         \n",
       "2                                             33.547         \n",
       "3                                             34.016         \n",
       "4                                             34.494         \n",
       "\n",
       "  Mortality rate, infant (per 1,000 live births) [SP.DYN.IMRT.IN]  \\\n",
       "0                                                 ..                \n",
       "1                                                 ..                \n",
       "2                                                 ..                \n",
       "3                                              228.9                \n",
       "4                                              225.1                \n",
       "\n",
       "  GDP (current US$) [NY.GDP.MKTP.CD] Population, total [SP.POP.TOTL]  \n",
       "0                   537777811.111111                         8622466  \n",
       "1                   548888895.555556                         8790140  \n",
       "2                   546666677.777778                         8969047  \n",
       "3                   751111191.111111                         9157465  \n",
       "4                   800000044.444444                         9355514  "
      ]
     },
     "execution_count": 60,
     "metadata": {},
     "output_type": "execute_result"
    }
   ],
   "source": [
    "df = pd.read_csv(\"Data.csv\")\n",
    "df.head()"
   ]
  },
  {
   "cell_type": "code",
   "execution_count": 51,
   "metadata": {},
   "outputs": [
    {
     "data": {
      "text/plain": [
       "(13545, 9)"
      ]
     },
     "execution_count": 51,
     "metadata": {},
     "output_type": "execute_result"
    }
   ],
   "source": [
    "# checking for the data shape\n",
    "df.shape"
   ]
  },
  {
   "cell_type": "code",
   "execution_count": null,
   "metadata": {},
   "outputs": [],
   "source": []
  },
  {
   "cell_type": "code",
   "execution_count": 52,
   "id": "715a00e2",
   "metadata": {},
   "outputs": [
    {
     "data": {
      "text/plain": [
       "Index(['Country Name', 'Country Code', 'Time', 'Time Code',\n",
       "       'Fertility rate, total (births per woman) [SP.DYN.TFRT.IN]',\n",
       "       'Life expectancy at birth, total (years) [SP.DYN.LE00.IN]',\n",
       "       'Mortality rate, infant (per 1,000 live births) [SP.DYN.IMRT.IN]',\n",
       "       'GDP (current US$) [NY.GDP.MKTP.CD]',\n",
       "       'Population, total [SP.POP.TOTL]'],\n",
       "      dtype='object')"
      ]
     },
     "execution_count": 52,
     "metadata": {},
     "output_type": "execute_result"
    }
   ],
   "source": [
    "# checking for the features in the dataset\n",
    "df.columns"
   ]
  },
  {
   "cell_type": "code",
   "execution_count": 53,
   "id": "a9b31d09",
   "metadata": {},
   "outputs": [],
   "source": [
    "# changing the column names \n",
    "\n",
    "column_name_changes = {\"Time\": \"year\", \"Country Name\": \"country\", \"Country Code\": \"country_code\",\n",
    "                      'Mortality rate, infant (per 1,000 live births) [SP.DYN.IMRT.IN]': 'infant_Mortality',\n",
    "                      'Life expectancy at birth, total (years) [SP.DYN.LE00.IN]': 'life_expectancy',\n",
    "                      'Fertility rate, total (births per woman) [SP.DYN.TFRT.IN]': 'fertility_rate', \n",
    "                      'Population, total [SP.POP.TOTL]': 'population',\n",
    "                      'GDP (current US$) [NY.GDP.MKTP.CD]': 'GDP'}"
   ]
  },
  {
   "cell_type": "code",
   "execution_count": 54,
   "id": "d4e9d12c",
   "metadata": {},
   "outputs": [
    {
     "data": {
      "text/html": [
       "<div>\n",
       "<style scoped>\n",
       "    .dataframe tbody tr th:only-of-type {\n",
       "        vertical-align: middle;\n",
       "    }\n",
       "\n",
       "    .dataframe tbody tr th {\n",
       "        vertical-align: top;\n",
       "    }\n",
       "\n",
       "    .dataframe thead th {\n",
       "        text-align: right;\n",
       "    }\n",
       "</style>\n",
       "<table border=\"1\" class=\"dataframe\">\n",
       "  <thead>\n",
       "    <tr style=\"text-align: right;\">\n",
       "      <th></th>\n",
       "      <th>country</th>\n",
       "      <th>country_code</th>\n",
       "      <th>year</th>\n",
       "      <th>Time Code</th>\n",
       "      <th>fertility_rate</th>\n",
       "      <th>life_expectancy</th>\n",
       "      <th>infant_Mortality</th>\n",
       "      <th>GDP</th>\n",
       "      <th>population</th>\n",
       "    </tr>\n",
       "  </thead>\n",
       "  <tbody>\n",
       "    <tr>\n",
       "      <th>0</th>\n",
       "      <td>Afghanistan</td>\n",
       "      <td>AFG</td>\n",
       "      <td>1960</td>\n",
       "      <td>YR1960</td>\n",
       "      <td>7.282</td>\n",
       "      <td>32.535</td>\n",
       "      <td>..</td>\n",
       "      <td>537777811.111111</td>\n",
       "      <td>8622466</td>\n",
       "    </tr>\n",
       "    <tr>\n",
       "      <th>1</th>\n",
       "      <td>Afghanistan</td>\n",
       "      <td>AFG</td>\n",
       "      <td>1961</td>\n",
       "      <td>YR1961</td>\n",
       "      <td>7.284</td>\n",
       "      <td>33.068</td>\n",
       "      <td>..</td>\n",
       "      <td>548888895.555556</td>\n",
       "      <td>8790140</td>\n",
       "    </tr>\n",
       "    <tr>\n",
       "      <th>2</th>\n",
       "      <td>Afghanistan</td>\n",
       "      <td>AFG</td>\n",
       "      <td>1962</td>\n",
       "      <td>YR1962</td>\n",
       "      <td>7.292</td>\n",
       "      <td>33.547</td>\n",
       "      <td>..</td>\n",
       "      <td>546666677.777778</td>\n",
       "      <td>8969047</td>\n",
       "    </tr>\n",
       "    <tr>\n",
       "      <th>3</th>\n",
       "      <td>Afghanistan</td>\n",
       "      <td>AFG</td>\n",
       "      <td>1963</td>\n",
       "      <td>YR1963</td>\n",
       "      <td>7.302</td>\n",
       "      <td>34.016</td>\n",
       "      <td>228.9</td>\n",
       "      <td>751111191.111111</td>\n",
       "      <td>9157465</td>\n",
       "    </tr>\n",
       "    <tr>\n",
       "      <th>4</th>\n",
       "      <td>Afghanistan</td>\n",
       "      <td>AFG</td>\n",
       "      <td>1964</td>\n",
       "      <td>YR1964</td>\n",
       "      <td>7.304</td>\n",
       "      <td>34.494</td>\n",
       "      <td>225.1</td>\n",
       "      <td>800000044.444444</td>\n",
       "      <td>9355514</td>\n",
       "    </tr>\n",
       "  </tbody>\n",
       "</table>\n",
       "</div>"
      ],
      "text/plain": [
       "       country country_code  year Time Code fertility_rate life_expectancy  \\\n",
       "0  Afghanistan          AFG  1960    YR1960          7.282          32.535   \n",
       "1  Afghanistan          AFG  1961    YR1961          7.284          33.068   \n",
       "2  Afghanistan          AFG  1962    YR1962          7.292          33.547   \n",
       "3  Afghanistan          AFG  1963    YR1963          7.302          34.016   \n",
       "4  Afghanistan          AFG  1964    YR1964          7.304          34.494   \n",
       "\n",
       "  infant_Mortality               GDP population  \n",
       "0               ..  537777811.111111    8622466  \n",
       "1               ..  548888895.555556    8790140  \n",
       "2               ..  546666677.777778    8969047  \n",
       "3            228.9  751111191.111111    9157465  \n",
       "4            225.1  800000044.444444    9355514  "
      ]
     },
     "execution_count": 54,
     "metadata": {},
     "output_type": "execute_result"
    }
   ],
   "source": [
    "df.rename(columns=column_name_changes, inplace=True)\n",
    "df.head()"
   ]
  },
  {
   "cell_type": "code",
   "execution_count": 55,
   "id": "300e49db",
   "metadata": {},
   "outputs": [
    {
     "data": {
      "text/plain": [
       "array([1960, 1961, 1962, 1963, 1964, 1965, 1966, 1967, 1968, 1969, 1970,\n",
       "       1971, 1972, 1973, 1974, 1975, 1976, 1977, 1978, 1979, 1980, 1981,\n",
       "       1982, 1983, 1984, 1985, 1986, 1987, 1988, 1989, 1990, 1991, 1992,\n",
       "       1993, 1994, 1995, 1996, 1997, 1998, 1999, 2000, 2001, 2002, 2003,\n",
       "       2004, 2005, 2006, 2007, 2008, 2009, 2010, 2011, 2012, 2013, 2014,\n",
       "       2015, 2016, 2017, 2018, 2019, 2020, 2021, 2022])"
      ]
     },
     "execution_count": 55,
     "metadata": {},
     "output_type": "execute_result"
    }
   ],
   "source": [
    "# checking for the unique values in the year column\n",
    "df['year'].unique()"
   ]
  },
  {
   "cell_type": "code",
   "execution_count": null,
   "id": "99497fc8",
   "metadata": {},
   "outputs": [],
   "source": []
  },
  {
   "cell_type": "code",
   "execution_count": 56,
   "id": "b588d134",
   "metadata": {},
   "outputs": [
    {
     "data": {
      "text/html": [
       "<div>\n",
       "<style scoped>\n",
       "    .dataframe tbody tr th:only-of-type {\n",
       "        vertical-align: middle;\n",
       "    }\n",
       "\n",
       "    .dataframe tbody tr th {\n",
       "        vertical-align: top;\n",
       "    }\n",
       "\n",
       "    .dataframe thead th {\n",
       "        text-align: right;\n",
       "    }\n",
       "</style>\n",
       "<table border=\"1\" class=\"dataframe\">\n",
       "  <thead>\n",
       "    <tr style=\"text-align: right;\">\n",
       "      <th></th>\n",
       "      <th>country</th>\n",
       "      <th>country_code</th>\n",
       "      <th>year</th>\n",
       "      <th>fertility_rate</th>\n",
       "      <th>life_expectancy</th>\n",
       "      <th>infant_Mortality</th>\n",
       "      <th>GDP</th>\n",
       "      <th>population</th>\n",
       "    </tr>\n",
       "  </thead>\n",
       "  <tbody>\n",
       "    <tr>\n",
       "      <th>0</th>\n",
       "      <td>Afghanistan</td>\n",
       "      <td>AFG</td>\n",
       "      <td>1960</td>\n",
       "      <td>7.282</td>\n",
       "      <td>32.535</td>\n",
       "      <td>..</td>\n",
       "      <td>537777811.111111</td>\n",
       "      <td>8622466</td>\n",
       "    </tr>\n",
       "    <tr>\n",
       "      <th>1</th>\n",
       "      <td>Afghanistan</td>\n",
       "      <td>AFG</td>\n",
       "      <td>1961</td>\n",
       "      <td>7.284</td>\n",
       "      <td>33.068</td>\n",
       "      <td>..</td>\n",
       "      <td>548888895.555556</td>\n",
       "      <td>8790140</td>\n",
       "    </tr>\n",
       "    <tr>\n",
       "      <th>2</th>\n",
       "      <td>Afghanistan</td>\n",
       "      <td>AFG</td>\n",
       "      <td>1962</td>\n",
       "      <td>7.292</td>\n",
       "      <td>33.547</td>\n",
       "      <td>..</td>\n",
       "      <td>546666677.777778</td>\n",
       "      <td>8969047</td>\n",
       "    </tr>\n",
       "    <tr>\n",
       "      <th>3</th>\n",
       "      <td>Afghanistan</td>\n",
       "      <td>AFG</td>\n",
       "      <td>1963</td>\n",
       "      <td>7.302</td>\n",
       "      <td>34.016</td>\n",
       "      <td>228.9</td>\n",
       "      <td>751111191.111111</td>\n",
       "      <td>9157465</td>\n",
       "    </tr>\n",
       "    <tr>\n",
       "      <th>4</th>\n",
       "      <td>Afghanistan</td>\n",
       "      <td>AFG</td>\n",
       "      <td>1964</td>\n",
       "      <td>7.304</td>\n",
       "      <td>34.494</td>\n",
       "      <td>225.1</td>\n",
       "      <td>800000044.444444</td>\n",
       "      <td>9355514</td>\n",
       "    </tr>\n",
       "  </tbody>\n",
       "</table>\n",
       "</div>"
      ],
      "text/plain": [
       "       country country_code  year fertility_rate life_expectancy  \\\n",
       "0  Afghanistan          AFG  1960          7.282          32.535   \n",
       "1  Afghanistan          AFG  1961          7.284          33.068   \n",
       "2  Afghanistan          AFG  1962          7.292          33.547   \n",
       "3  Afghanistan          AFG  1963          7.302          34.016   \n",
       "4  Afghanistan          AFG  1964          7.304          34.494   \n",
       "\n",
       "  infant_Mortality               GDP population  \n",
       "0               ..  537777811.111111    8622466  \n",
       "1               ..  548888895.555556    8790140  \n",
       "2               ..  546666677.777778    8969047  \n",
       "3            228.9  751111191.111111    9157465  \n",
       "4            225.1  800000044.444444    9355514  "
      ]
     },
     "execution_count": 56,
     "metadata": {},
     "output_type": "execute_result"
    }
   ],
   "source": [
    "# dropping the columns that are not required\n",
    "df2 = df.drop(columns=['Time Code'])\n",
    "df2.head()\n"
   ]
  },
  {
   "cell_type": "code",
   "execution_count": null,
   "metadata": {},
   "outputs": [],
   "source": []
  },
  {
   "cell_type": "code",
   "execution_count": 57,
   "metadata": {},
   "outputs": [
    {
     "data": {
      "text/plain": [
       "215"
      ]
     },
     "execution_count": 57,
     "metadata": {},
     "output_type": "execute_result"
    }
   ],
   "source": [
    "# checking for the total number of unique country\n",
    "len(df2['country'].unique())"
   ]
  },
  {
   "cell_type": "code",
   "execution_count": 58,
   "metadata": {},
   "outputs": [
    {
     "data": {
      "text/plain": [
       "63"
      ]
     },
     "execution_count": 58,
     "metadata": {},
     "output_type": "execute_result"
    }
   ],
   "source": [
    "# checking for the total number of unique years in the dataset\n",
    "len(df2['year'].unique())"
   ]
  },
  {
   "cell_type": "code",
   "execution_count": 48,
   "metadata": {},
   "outputs": [],
   "source": [
    "# save the dataset\n",
    "\n",
    "df2.to_csv('Data2.csv', index=False)"
   ]
  }
 ],
 "metadata": {
  "kernelspec": {
   "display_name": "Python 3 (ipykernel)",
   "language": "python",
   "name": "python3"
  },
  "language_info": {
   "codemirror_mode": {
    "name": "ipython",
    "version": 3
   },
   "file_extension": ".py",
   "mimetype": "text/x-python",
   "name": "python",
   "nbconvert_exporter": "python",
   "pygments_lexer": "ipython3",
   "version": "3.11.5"
  }
 },
 "nbformat": 4,
 "nbformat_minor": 5
}
