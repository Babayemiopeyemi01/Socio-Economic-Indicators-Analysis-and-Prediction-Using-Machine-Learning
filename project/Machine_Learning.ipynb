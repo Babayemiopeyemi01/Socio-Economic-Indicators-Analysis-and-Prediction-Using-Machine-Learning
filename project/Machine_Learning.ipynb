{
 "cells": [
  {
   "cell_type": "code",
   "execution_count": null,
   "metadata": {},
   "outputs": [],
   "source": []
  },
  {
   "cell_type": "code",
   "execution_count": null,
   "metadata": {},
   "outputs": [],
   "source": []
  },
  {
   "cell_type": "code",
   "execution_count": 42,
   "metadata": {},
   "outputs": [],
   "source": [
    "import numpy as np\n",
    "\n",
    "import pandas as pd\n"
   ]
  },
  {
   "cell_type": "code",
   "execution_count": null,
   "metadata": {},
   "outputs": [],
   "source": []
  },
  {
   "cell_type": "code",
   "execution_count": 43,
   "metadata": {},
   "outputs": [
    {
     "data": {
      "text/html": [
       "<div>\n",
       "<style scoped>\n",
       "    .dataframe tbody tr th:only-of-type {\n",
       "        vertical-align: middle;\n",
       "    }\n",
       "\n",
       "    .dataframe tbody tr th {\n",
       "        vertical-align: top;\n",
       "    }\n",
       "\n",
       "    .dataframe thead th {\n",
       "        text-align: right;\n",
       "    }\n",
       "</style>\n",
       "<table border=\"1\" class=\"dataframe\">\n",
       "  <thead>\n",
       "    <tr style=\"text-align: right;\">\n",
       "      <th></th>\n",
       "      <th>continent</th>\n",
       "      <th>region</th>\n",
       "      <th>country</th>\n",
       "      <th>year</th>\n",
       "      <th>country_code</th>\n",
       "      <th>fertility_rate</th>\n",
       "      <th>life_expectancy</th>\n",
       "      <th>infant_Mortality</th>\n",
       "      <th>GDP</th>\n",
       "      <th>population</th>\n",
       "      <th>Dollars_per_Day</th>\n",
       "      <th>PC1</th>\n",
       "      <th>PC2</th>\n",
       "      <th>socio_economic_trend</th>\n",
       "    </tr>\n",
       "  </thead>\n",
       "  <tbody>\n",
       "    <tr>\n",
       "      <th>0</th>\n",
       "      <td>Asia</td>\n",
       "      <td>South Asia</td>\n",
       "      <td>Afghanistan</td>\n",
       "      <td>1960</td>\n",
       "      <td>AFG</td>\n",
       "      <td>1.740091</td>\n",
       "      <td>-2.925309</td>\n",
       "      <td>2.666066</td>\n",
       "      <td>-0.190895</td>\n",
       "      <td>-0.157572</td>\n",
       "      <td>-0.209000</td>\n",
       "      <td>-4.225946</td>\n",
       "      <td>0.477561</td>\n",
       "      <td>-2.682888</td>\n",
       "    </tr>\n",
       "    <tr>\n",
       "      <th>1</th>\n",
       "      <td>Asia</td>\n",
       "      <td>South Asia</td>\n",
       "      <td>Afghanistan</td>\n",
       "      <td>1961</td>\n",
       "      <td>AFG</td>\n",
       "      <td>1.741118</td>\n",
       "      <td>-2.876889</td>\n",
       "      <td>2.626163</td>\n",
       "      <td>-0.190883</td>\n",
       "      <td>-0.155969</td>\n",
       "      <td>-0.209000</td>\n",
       "      <td>-4.175558</td>\n",
       "      <td>0.469381</td>\n",
       "      <td>-2.651714</td>\n",
       "    </tr>\n",
       "    <tr>\n",
       "      <th>2</th>\n",
       "      <td>Asia</td>\n",
       "      <td>South Asia</td>\n",
       "      <td>Afghanistan</td>\n",
       "      <td>1962</td>\n",
       "      <td>AFG</td>\n",
       "      <td>1.745225</td>\n",
       "      <td>-2.833374</td>\n",
       "      <td>2.590771</td>\n",
       "      <td>-0.190885</td>\n",
       "      <td>-0.154259</td>\n",
       "      <td>-0.209001</td>\n",
       "      <td>-4.132296</td>\n",
       "      <td>0.462437</td>\n",
       "      <td>-2.624923</td>\n",
       "    </tr>\n",
       "    <tr>\n",
       "      <th>3</th>\n",
       "      <td>Asia</td>\n",
       "      <td>South Asia</td>\n",
       "      <td>Afghanistan</td>\n",
       "      <td>1963</td>\n",
       "      <td>AFG</td>\n",
       "      <td>1.750359</td>\n",
       "      <td>-2.790768</td>\n",
       "      <td>3.990221</td>\n",
       "      <td>-0.190661</td>\n",
       "      <td>-0.152458</td>\n",
       "      <td>-0.208989</td>\n",
       "      <td>-4.912889</td>\n",
       "      <td>0.635432</td>\n",
       "      <td>-3.092676</td>\n",
       "    </tr>\n",
       "    <tr>\n",
       "      <th>4</th>\n",
       "      <td>Asia</td>\n",
       "      <td>South Asia</td>\n",
       "      <td>Afghanistan</td>\n",
       "      <td>1964</td>\n",
       "      <td>AFG</td>\n",
       "      <td>1.751386</td>\n",
       "      <td>-2.747344</td>\n",
       "      <td>3.905691</td>\n",
       "      <td>-0.190607</td>\n",
       "      <td>-0.150566</td>\n",
       "      <td>-0.208987</td>\n",
       "      <td>-4.839768</td>\n",
       "      <td>0.622354</td>\n",
       "      <td>-3.047834</td>\n",
       "    </tr>\n",
       "  </tbody>\n",
       "</table>\n",
       "</div>"
      ],
      "text/plain": [
       "  continent      region      country  year country_code  fertility_rate  \\\n",
       "0      Asia  South Asia  Afghanistan  1960          AFG        1.740091   \n",
       "1      Asia  South Asia  Afghanistan  1961          AFG        1.741118   \n",
       "2      Asia  South Asia  Afghanistan  1962          AFG        1.745225   \n",
       "3      Asia  South Asia  Afghanistan  1963          AFG        1.750359   \n",
       "4      Asia  South Asia  Afghanistan  1964          AFG        1.751386   \n",
       "\n",
       "   life_expectancy  infant_Mortality       GDP  population  Dollars_per_Day  \\\n",
       "0        -2.925309          2.666066 -0.190895   -0.157572        -0.209000   \n",
       "1        -2.876889          2.626163 -0.190883   -0.155969        -0.209000   \n",
       "2        -2.833374          2.590771 -0.190885   -0.154259        -0.209001   \n",
       "3        -2.790768          3.990221 -0.190661   -0.152458        -0.208989   \n",
       "4        -2.747344          3.905691 -0.190607   -0.150566        -0.208987   \n",
       "\n",
       "        PC1       PC2  socio_economic_trend  \n",
       "0 -4.225946  0.477561             -2.682888  \n",
       "1 -4.175558  0.469381             -2.651714  \n",
       "2 -4.132296  0.462437             -2.624923  \n",
       "3 -4.912889  0.635432             -3.092676  \n",
       "4 -4.839768  0.622354             -3.047834  "
      ]
     },
     "execution_count": 43,
     "metadata": {},
     "output_type": "execute_result"
    }
   ],
   "source": [
    "df = pd.read_csv(\"socio_economic_trends_data.csv\")\n",
    "df.head()"
   ]
  },
  {
   "cell_type": "code",
   "execution_count": null,
   "metadata": {},
   "outputs": [],
   "source": []
  },
  {
   "cell_type": "markdown",
   "metadata": {},
   "source": [
    "## feature selection"
   ]
  },
  {
   "cell_type": "code",
   "execution_count": 58,
   "metadata": {},
   "outputs": [
    {
     "name": "stdout",
     "output_type": "stream",
     "text": [
      "\n",
      " The selected features are:\n"
     ]
    },
    {
     "data": {
      "text/html": [
       "<div>\n",
       "<style scoped>\n",
       "    .dataframe tbody tr th:only-of-type {\n",
       "        vertical-align: middle;\n",
       "    }\n",
       "\n",
       "    .dataframe tbody tr th {\n",
       "        vertical-align: top;\n",
       "    }\n",
       "\n",
       "    .dataframe thead th {\n",
       "        text-align: right;\n",
       "    }\n",
       "</style>\n",
       "<table border=\"1\" class=\"dataframe\">\n",
       "  <thead>\n",
       "    <tr style=\"text-align: right;\">\n",
       "      <th></th>\n",
       "      <th>fertility_rate</th>\n",
       "      <th>life_expectancy</th>\n",
       "      <th>infant_Mortality</th>\n",
       "      <th>GDP</th>\n",
       "      <th>population</th>\n",
       "      <th>Dollars_per_Day</th>\n",
       "      <th>PC1</th>\n",
       "      <th>socio_economic_trend</th>\n",
       "    </tr>\n",
       "  </thead>\n",
       "  <tbody>\n",
       "    <tr>\n",
       "      <th>0</th>\n",
       "      <td>1.740091</td>\n",
       "      <td>-2.925309</td>\n",
       "      <td>2.666066</td>\n",
       "      <td>-0.190895</td>\n",
       "      <td>-0.157572</td>\n",
       "      <td>-0.209000</td>\n",
       "      <td>-4.225946</td>\n",
       "      <td>-2.682888</td>\n",
       "    </tr>\n",
       "    <tr>\n",
       "      <th>1</th>\n",
       "      <td>1.741118</td>\n",
       "      <td>-2.876889</td>\n",
       "      <td>2.626163</td>\n",
       "      <td>-0.190883</td>\n",
       "      <td>-0.155969</td>\n",
       "      <td>-0.209000</td>\n",
       "      <td>-4.175558</td>\n",
       "      <td>-2.651714</td>\n",
       "    </tr>\n",
       "    <tr>\n",
       "      <th>2</th>\n",
       "      <td>1.745225</td>\n",
       "      <td>-2.833374</td>\n",
       "      <td>2.590771</td>\n",
       "      <td>-0.190885</td>\n",
       "      <td>-0.154259</td>\n",
       "      <td>-0.209001</td>\n",
       "      <td>-4.132296</td>\n",
       "      <td>-2.624923</td>\n",
       "    </tr>\n",
       "    <tr>\n",
       "      <th>3</th>\n",
       "      <td>1.750359</td>\n",
       "      <td>-2.790768</td>\n",
       "      <td>3.990221</td>\n",
       "      <td>-0.190661</td>\n",
       "      <td>-0.152458</td>\n",
       "      <td>-0.208989</td>\n",
       "      <td>-4.912889</td>\n",
       "      <td>-3.092676</td>\n",
       "    </tr>\n",
       "    <tr>\n",
       "      <th>4</th>\n",
       "      <td>1.751386</td>\n",
       "      <td>-2.747344</td>\n",
       "      <td>3.905691</td>\n",
       "      <td>-0.190607</td>\n",
       "      <td>-0.150566</td>\n",
       "      <td>-0.208987</td>\n",
       "      <td>-4.839768</td>\n",
       "      <td>-3.047834</td>\n",
       "    </tr>\n",
       "  </tbody>\n",
       "</table>\n",
       "</div>"
      ],
      "text/plain": [
       "   fertility_rate  life_expectancy  infant_Mortality       GDP  population  \\\n",
       "0        1.740091        -2.925309          2.666066 -0.190895   -0.157572   \n",
       "1        1.741118        -2.876889          2.626163 -0.190883   -0.155969   \n",
       "2        1.745225        -2.833374          2.590771 -0.190885   -0.154259   \n",
       "3        1.750359        -2.790768          3.990221 -0.190661   -0.152458   \n",
       "4        1.751386        -2.747344          3.905691 -0.190607   -0.150566   \n",
       "\n",
       "   Dollars_per_Day       PC1  socio_economic_trend  \n",
       "0        -0.209000 -4.225946             -2.682888  \n",
       "1        -0.209000 -4.175558             -2.651714  \n",
       "2        -0.209001 -4.132296             -2.624923  \n",
       "3        -0.208989 -4.912889             -3.092676  \n",
       "4        -0.208987 -4.839768             -3.047834  "
      ]
     },
     "execution_count": 58,
     "metadata": {},
     "output_type": "execute_result"
    }
   ],
   "source": [
    "import pandas as pd\n",
    "from sklearn.feature_selection import RFE\n",
    "from sklearn.linear_model import LinearRegression\n",
    "\n",
    "# Select the independent variables and target variable\n",
    "X = df[df.columns[5:12]]  # Independent variables\n",
    "y = df['socio_economic_trend']  # Target variable\n",
    "\n",
    "# Create a linear regression model\n",
    "model = LinearRegression()\n",
    "\n",
    "# Perform RFE feature selection\n",
    "rfe = RFE(estimator=model, n_features_to_select=7)  # top 6 features\n",
    "X_selected = rfe.fit_transform(X, y)\n",
    "\n",
    "# Get the selected feature names\n",
    "selected_feature_names = X.columns[rfe.support_]\n",
    "\n",
    "# Create the final dataframe with selected features and target variable\n",
    "final_df = pd.DataFrame(X_selected, columns=selected_feature_names)\n",
    "final_df['socio_economic_trend'] = y\n",
    "\n",
    "print(\"\\n The selected features are:\")\n",
    "\n",
    "\n",
    "final_df.head()\n",
    "\n",
    "\n",
    "\n"
   ]
  },
  {
   "cell_type": "markdown",
   "metadata": {},
   "source": [
    "# Random Forest algorithm "
   ]
  },
  {
   "cell_type": "code",
   "execution_count": 45,
   "metadata": {},
   "outputs": [
    {
     "name": "stdout",
     "output_type": "stream",
     "text": [
      "Mean Squared Error: 0.0025412409757410016\n",
      "R-squared: 0.9981452290806836\n"
     ]
    }
   ],
   "source": [
    "import pandas as pd\n",
    "from sklearn.ensemble import RandomForestRegressor\n",
    "from sklearn.model_selection import train_test_split\n",
    "from sklearn.metrics import mean_squared_error, r2_score\n",
    "\n",
    "# Split the data into training and testing sets\n",
    "X = final_df.drop('socio_economic_trend', axis=1)  # Independent variables\n",
    "y = final_df['socio_economic_trend']  # Target variable\n",
    "\n",
    "X_train, X_test, y_train, y_test = train_test_split(X, y, test_size=0.2, random_state=42)\n",
    "\n",
    "# Create and train the Random Forest model\n",
    "rf_model = RandomForestRegressor(n_estimators=100, random_state=42)\n",
    "rf_model.fit(X_train, y_train)\n",
    "\n",
    "# Make predictions on the test set\n",
    "y_pred = rf_model.predict(X_test)\n",
    "\n",
    "\n",
    "\n",
    "\n"
   ]
  },
  {
   "cell_type": "markdown",
   "metadata": {},
   "source": [
    "Mean Squared Error: 0.0025412409757410016\n",
    "R-squared: 0.9981452290806836"
   ]
  },
  {
   "cell_type": "code",
   "execution_count": null,
   "metadata": {},
   "outputs": [],
   "source": []
  },
  {
   "cell_type": "code",
   "execution_count": 46,
   "metadata": {},
   "outputs": [
    {
     "name": "stdout",
     "output_type": "stream",
     "text": [
      "Mean Squared Error: 0.0025412409757410016\n",
      "R-squared: 0.9981452290806836\n"
     ]
    }
   ],
   "source": [
    "# Evaluate the model\n",
    "mse = mean_squared_error(y_test, y_pred)\n",
    "r2 = r2_score(y_test, y_pred)\n",
    "\n",
    "print(\"Mean Squared Error:\", mse)\n",
    "print(\"R-squared:\", r2)"
   ]
  },
  {
   "cell_type": "markdown",
   "metadata": {},
   "source": []
  },
  {
   "cell_type": "code",
   "execution_count": 47,
   "metadata": {},
   "outputs": [
    {
     "name": "stdout",
     "output_type": "stream",
     "text": [
      "fertility_rate: 0.0006573637703739097\n",
      "life_expectancy: 0.00039947323867745054\n",
      "infant_Mortality: 0.0009240363223389496\n",
      "GDP: 0.03910756169333477\n",
      "population: 0.12421637093702884\n",
      "Dollars_per_Day: 0.0012960760226516418\n",
      "PC1: 0.8333991180155944\n"
     ]
    }
   ],
   "source": [
    "# Get feature importances\n",
    "feature_importances = rf_model.feature_importances_\n",
    "\n",
    "# Get the names of the features\n",
    "feature_names = X.columns\n",
    "\n",
    "# Create a dictionary to store feature names and their corresponding importances\n",
    "feature_importance_dict = dict(zip(feature_names, feature_importances))\n",
    "\n",
    "# Print the feature importances\n",
    "for feature, importance in feature_importance_dict.items():\n",
    "    print(f\"{feature}: {importance}\")"
   ]
  },
  {
   "cell_type": "markdown",
   "metadata": {},
   "source": []
  },
  {
   "cell_type": "code",
   "execution_count": null,
   "metadata": {},
   "outputs": [],
   "source": []
  },
  {
   "cell_type": "markdown",
   "metadata": {},
   "source": [
    "# Display the feature importance in a table"
   ]
  },
  {
   "cell_type": "code",
   "execution_count": 56,
   "metadata": {},
   "outputs": [
    {
     "data": {
      "image/png": "[encoded data removed]",
      "text/plain": [
       "<Figure size 600x400 with 1 Axes>"
      ]
     },
     "metadata": {},
     "output_type": "display_data"
    }
   ],
   "source": [
    "import pandas as pd\n",
    "import matplotlib.pyplot as plt\n",
    "\n",
    "# Get feature importances\n",
    "feature_importances = rf_model.feature_importances_\n",
    "\n",
    "# Get the names of the features\n",
    "feature_names = X.columns\n",
    "\n",
    "# Create a DataFrame to store feature names and their corresponding importances\n",
    "importance_df = pd.DataFrame({'Variable': feature_names, 'Importance': feature_importances})\n",
    "\n",
    "# Sort the DataFrame by importance in descending order\n",
    "importance_df = importance_df.sort_values(by='Importance', ascending=False)\n",
    "\n",
    "# Approximate the importance values to 4 decimal places\n",
    "importance_df['Importance'] = importance_df['Importance'].round(6)\n",
    "\n",
    "# Display the table\n",
    "fig, ax = plt.subplots(figsize=(6, 4))\n",
    "ax.axis('off')\n",
    "ax.table(cellText=importance_df.values, colLabels=importance_df.columns, loc='center', cellLoc='center', colWidths=[0.4, 0.4])\n",
    "ax.set_title('Random Forest Model Feature Importance', fontsize=14, fontweight='bold')\n",
    "table.scale(1, 2)\n",
    "\n",
    "# Show the table\n",
    "plt.tight_layout()\n",
    "plt.show()"
   ]
  },
  {
   "cell_type": "code",
   "execution_count": null,
   "metadata": {},
   "outputs": [],
   "source": []
  },
  {
   "cell_type": "code",
   "execution_count": null,
   "metadata": {},
   "outputs": [],
   "source": []
  },
  {
   "cell_type": "code",
   "execution_count": null,
   "metadata": {},
   "outputs": [],
   "source": []
  },
  {
   "cell_type": "code",
   "execution_count": null,
   "metadata": {},
   "outputs": [],
   "source": []
  }
 ],
 "metadata": {
  "kernelspec": {
   "display_name": "base",
   "language": "python",
   "name": "python3"
  },
  "language_info": {
   "codemirror_mode": {
    "name": "ipython",
    "version": 3
   },
   "file_extension": ".py",
   "mimetype": "text/x-python",
   "name": "python",
   "nbconvert_exporter": "python",
   "pygments_lexer": "ipython3",
   "version": "3.11.5"
  }
 },
 "nbformat": 4,
 "nbformat_minor": 2
}
